{
 "cells": [
  {
   "cell_type": "markdown",
   "metadata": {},
   "source": [
    "### MONSIEUR DANS CE CODE YA LES MEMES ETAPES SAUF QUE DANS CE CODE JAI FAIS UN AUTRE TYPE DEMBEDDING QUI EST BGE-M3 POUR TESTER LES PERFORMANCES !"
   ]
  },
  {
   "cell_type": "code",
   "execution_count": 1,
   "metadata": {},
   "outputs": [
    {
     "data": {
      "text/html": [
       "<div>\n",
       "<style scoped>\n",
       "    .dataframe tbody tr th:only-of-type {\n",
       "        vertical-align: middle;\n",
       "    }\n",
       "\n",
       "    .dataframe tbody tr th {\n",
       "        vertical-align: top;\n",
       "    }\n",
       "\n",
       "    .dataframe thead th {\n",
       "        text-align: right;\n",
       "    }\n",
       "</style>\n",
       "<table border=\"1\" class=\"dataframe\">\n",
       "  <thead>\n",
       "    <tr style=\"text-align: right;\">\n",
       "      <th></th>\n",
       "      <th>source sentence</th>\n",
       "      <th>simplified sentence</th>\n",
       "      <th>run_id</th>\n",
       "      <th>snt_id</th>\n",
       "      <th>No error</th>\n",
       "      <th>Random generation</th>\n",
       "      <th>Syntax error</th>\n",
       "      <th>Contradiction</th>\n",
       "      <th>Simple punctuation / grammar errors</th>\n",
       "      <th>Redundancy</th>\n",
       "      <th>Format misalignement</th>\n",
       "      <th>Prompt misalignement</th>\n",
       "      <th>Out-of-Scope Generation</th>\n",
       "      <th>Topic shift</th>\n",
       "      <th>Oversimplification of Logical Arguments</th>\n",
       "      <th>Overgeneralization</th>\n",
       "      <th>Loss of Informative Content</th>\n",
       "      <th>Factuality hallucination</th>\n",
       "      <th>Faithfulness hallucination</th>\n",
       "      <th>Commentaire</th>\n",
       "    </tr>\n",
       "  </thead>\n",
       "  <tbody>\n",
       "    <tr>\n",
       "      <th>0</th>\n",
       "      <td>:[0],\"non-coding RNAs (lncRNAs) may play crit...</td>\n",
       "      <td>Long non-coding RNAs, or lncRNAs, may play si...</td>\n",
       "      <td>UBO_Task3.1_Phi4mini-sl</td>\n",
       "      <td>G04.2_2519200480_1</td>\n",
       "      <td>VRAI</td>\n",
       "      <td>False</td>\n",
       "      <td>False</td>\n",
       "      <td>False</td>\n",
       "      <td>False</td>\n",
       "      <td>False</td>\n",
       "      <td>False</td>\n",
       "      <td>False</td>\n",
       "      <td>False</td>\n",
       "      <td>False</td>\n",
       "      <td>False</td>\n",
       "      <td>False</td>\n",
       "      <td>False</td>\n",
       "      <td>False</td>\n",
       "      <td>False</td>\n",
       "      <td>NaN</td>\n",
       "    </tr>\n",
       "    <tr>\n",
       "      <th>1</th>\n",
       "      <td>Recently, lncRNAs have been widely identified ...</td>\n",
       "      <td>Small RNA molecules are found in complex cell...</td>\n",
       "      <td>UBO_Task3.1_Phi4mini-sl</td>\n",
       "      <td>G04.2_2519200480_2</td>\n",
       "      <td>VRAI</td>\n",
       "      <td>False</td>\n",
       "      <td>False</td>\n",
       "      <td>False</td>\n",
       "      <td>False</td>\n",
       "      <td>False</td>\n",
       "      <td>False</td>\n",
       "      <td>False</td>\n",
       "      <td>False</td>\n",
       "      <td>False</td>\n",
       "      <td>False</td>\n",
       "      <td>False</td>\n",
       "      <td>False</td>\n",
       "      <td>False</td>\n",
       "      <td>False</td>\n",
       "      <td>NaN</td>\n",
       "    </tr>\n",
       "    <tr>\n",
       "      <th>2</th>\n",
       "      <td>However, there is rare information about them ...</td>\n",
       "      <td>There is unusual information here that doesn'...</td>\n",
       "      <td>UBO_Task3.1_Phi4mini-sl</td>\n",
       "      <td>G04.2_2519200480_3</td>\n",
       "      <td>FAUX</td>\n",
       "      <td>False</td>\n",
       "      <td>False</td>\n",
       "      <td>False</td>\n",
       "      <td>False</td>\n",
       "      <td>False</td>\n",
       "      <td>False</td>\n",
       "      <td>False</td>\n",
       "      <td>True</td>\n",
       "      <td>True</td>\n",
       "      <td>False</td>\n",
       "      <td>False</td>\n",
       "      <td>False</td>\n",
       "      <td>False</td>\n",
       "      <td>False</td>\n",
       "      <td>NaN</td>\n",
       "    </tr>\n",
       "    <tr>\n",
       "      <th>3</th>\n",
       "      <td>During humanitarian crises, there is a need fo...</td>\n",
       "      <td>When crises happen, people need quick and larg...</td>\n",
       "      <td>UBO_Task3.1_Phi4mini-sl</td>\n",
       "      <td>G07.1_3007380484_1</td>\n",
       "      <td>FAUX</td>\n",
       "      <td>False</td>\n",
       "      <td>False</td>\n",
       "      <td>False</td>\n",
       "      <td>False</td>\n",
       "      <td>False</td>\n",
       "      <td>False</td>\n",
       "      <td>False</td>\n",
       "      <td>True</td>\n",
       "      <td>False</td>\n",
       "      <td>False</td>\n",
       "      <td>False</td>\n",
       "      <td>False</td>\n",
       "      <td>False</td>\n",
       "      <td>False</td>\n",
       "      <td>NaN</td>\n",
       "    </tr>\n",
       "    <tr>\n",
       "      <th>4</th>\n",
       "      <td>Such need creates the base for misinformation ...</td>\n",
       "      <td>This reduction helps in combating climate chan...</td>\n",
       "      <td>UBO_Task3.1_Phi4mini-sl</td>\n",
       "      <td>G07.1_3007380484_2</td>\n",
       "      <td>FAUX</td>\n",
       "      <td>False</td>\n",
       "      <td>False</td>\n",
       "      <td>False</td>\n",
       "      <td>False</td>\n",
       "      <td>True</td>\n",
       "      <td>False</td>\n",
       "      <td>True</td>\n",
       "      <td>False</td>\n",
       "      <td>True</td>\n",
       "      <td>False</td>\n",
       "      <td>False</td>\n",
       "      <td>False</td>\n",
       "      <td>False</td>\n",
       "      <td>False</td>\n",
       "      <td>NaN</td>\n",
       "    </tr>\n",
       "  </tbody>\n",
       "</table>\n",
       "</div>"
      ],
      "text/plain": [
       "                                     source sentence  \\\n",
       "0   :[0],\"non-coding RNAs (lncRNAs) may play crit...   \n",
       "1  Recently, lncRNAs have been widely identified ...   \n",
       "2  However, there is rare information about them ...   \n",
       "3  During humanitarian crises, there is a need fo...   \n",
       "4  Such need creates the base for misinformation ...   \n",
       "\n",
       "                                 simplified sentence                   run_id  \\\n",
       "0   Long non-coding RNAs, or lncRNAs, may play si...  UBO_Task3.1_Phi4mini-sl   \n",
       "1   Small RNA molecules are found in complex cell...  UBO_Task3.1_Phi4mini-sl   \n",
       "2   There is unusual information here that doesn'...  UBO_Task3.1_Phi4mini-sl   \n",
       "3  When crises happen, people need quick and larg...  UBO_Task3.1_Phi4mini-sl   \n",
       "4  This reduction helps in combating climate chan...  UBO_Task3.1_Phi4mini-sl   \n",
       "\n",
       "               snt_id No error  Random generation  Syntax error  \\\n",
       "0  G04.2_2519200480_1     VRAI              False         False   \n",
       "1  G04.2_2519200480_2     VRAI              False         False   \n",
       "2  G04.2_2519200480_3     FAUX              False         False   \n",
       "3  G07.1_3007380484_1     FAUX              False         False   \n",
       "4  G07.1_3007380484_2     FAUX              False         False   \n",
       "\n",
       "   Contradiction  Simple punctuation / grammar errors  Redundancy  \\\n",
       "0          False                                False       False   \n",
       "1          False                                False       False   \n",
       "2          False                                False       False   \n",
       "3          False                                False       False   \n",
       "4          False                                False        True   \n",
       "\n",
       "   Format misalignement  Prompt misalignement  Out-of-Scope Generation  \\\n",
       "0                 False                 False                    False   \n",
       "1                 False                 False                    False   \n",
       "2                 False                 False                     True   \n",
       "3                 False                 False                     True   \n",
       "4                 False                  True                    False   \n",
       "\n",
       "   Topic shift  Oversimplification of Logical Arguments  Overgeneralization  \\\n",
       "0        False                                    False               False   \n",
       "1        False                                    False               False   \n",
       "2         True                                    False               False   \n",
       "3        False                                    False               False   \n",
       "4         True                                    False               False   \n",
       "\n",
       "   Loss of Informative Content  Factuality hallucination  \\\n",
       "0                        False                     False   \n",
       "1                        False                     False   \n",
       "2                        False                     False   \n",
       "3                        False                     False   \n",
       "4                        False                     False   \n",
       "\n",
       "   Faithfulness hallucination Commentaire  \n",
       "0                       False         NaN  \n",
       "1                       False         NaN  \n",
       "2                       False         NaN  \n",
       "3                       False         NaN  \n",
       "4                       False         NaN  "
      ]
     },
     "execution_count": 1,
     "metadata": {},
     "output_type": "execute_result"
    }
   ],
   "source": [
    "import pandas as pd\n",
    "\n",
    "data=pd.read_csv(\"fusionned_file.csv\",sep=\";\")\n",
    "data.head()\n"
   ]
  },
  {
   "cell_type": "markdown",
   "metadata": {},
   "source": []
  },
  {
   "cell_type": "code",
   "execution_count": 2,
   "metadata": {},
   "outputs": [],
   "source": [
    "data.drop(columns=['run_id', 'snt_id','No error','Syntax error','Loss of Informative Content','Random generation','Simple punctuation / grammar errors','Redundancy','Contradiction','Format misalignement','Prompt misalignement','Topic shift',\t'Oversimplification of Logical Arguments',\t'Overgeneralization','Factuality hallucination',\t'Faithfulness hallucination',\t'Commentaire'], inplace=True)"
   ]
  },
  {
   "cell_type": "code",
   "execution_count": 3,
   "metadata": {},
   "outputs": [
    {
     "data": {
      "text/html": [
       "<div>\n",
       "<style scoped>\n",
       "    .dataframe tbody tr th:only-of-type {\n",
       "        vertical-align: middle;\n",
       "    }\n",
       "\n",
       "    .dataframe tbody tr th {\n",
       "        vertical-align: top;\n",
       "    }\n",
       "\n",
       "    .dataframe thead th {\n",
       "        text-align: right;\n",
       "    }\n",
       "</style>\n",
       "<table border=\"1\" class=\"dataframe\">\n",
       "  <thead>\n",
       "    <tr style=\"text-align: right;\">\n",
       "      <th></th>\n",
       "      <th>source sentence</th>\n",
       "      <th>simplified sentence</th>\n",
       "      <th>Out-of-Scope Generation</th>\n",
       "    </tr>\n",
       "  </thead>\n",
       "  <tbody>\n",
       "    <tr>\n",
       "      <th>0</th>\n",
       "      <td>:[0],\"non-coding RNAs (lncRNAs) may play crit...</td>\n",
       "      <td>Long non-coding RNAs, or lncRNAs, may play si...</td>\n",
       "      <td>False</td>\n",
       "    </tr>\n",
       "  </tbody>\n",
       "</table>\n",
       "</div>"
      ],
      "text/plain": [
       "                                     source sentence  \\\n",
       "0   :[0],\"non-coding RNAs (lncRNAs) may play crit...   \n",
       "\n",
       "                                 simplified sentence  Out-of-Scope Generation  \n",
       "0   Long non-coding RNAs, or lncRNAs, may play si...                    False  "
      ]
     },
     "execution_count": 3,
     "metadata": {},
     "output_type": "execute_result"
    }
   ],
   "source": [
    "data.head(1)"
   ]
  },
  {
   "cell_type": "code",
   "execution_count": 4,
   "metadata": {},
   "outputs": [
    {
     "name": "stdout",
     "output_type": "stream",
     "text": [
      "                         FALSE (%)   TRUE (%)\n",
      "Out-of-Scope Generation  86.060606  13.939394\n"
     ]
    }
   ],
   "source": [
    "bool_columns = data.columns[data.dtypes == 'bool']\n",
    "\n",
    "# Calculer les pourcentages de TRUE et FALSE pour chaque colonne booléenne\n",
    "percentages = {\n",
    "    col: {\n",
    "        'TRUE (%)': data[col].mean() * 100,\n",
    "        'FALSE (%)': (1 - data[col].mean()) * 100\n",
    "    }\n",
    "    for col in bool_columns\n",
    "}\n",
    "\n",
    "# Convertir en DataFrame pour afficher les résultats\n",
    "result_df = pd.DataFrame(percentages).T\n",
    "\n",
    "# Afficher les résultats\n",
    "#import ace_tools as tools; tools.display_dataframe_to_user(name=\"Pourcentage des Colonnes Booléennes\", dataframe=result_df)\n",
    "print(result_df)"
   ]
  },
  {
   "cell_type": "markdown",
   "metadata": {},
   "source": [
    "## Preprocessing before embeddings"
   ]
  },
  {
   "cell_type": "code",
   "execution_count": 6,
   "metadata": {},
   "outputs": [
    {
     "name": "stdout",
     "output_type": "stream",
     "text": [
      "                                     source sentence  \\\n",
      "0  0noncoding rnas lncrnas may play critical role...   \n",
      "1  recently lncrnas have been widely identified a...   \n",
      "2  however there is rare information about them i...   \n",
      "3  during humanitarian crises there is a need for...   \n",
      "4  such need creates the base for misinformation ...   \n",
      "\n",
      "                                 simplified sentence  Out-of-Scope Generation  \n",
      "0  long noncoding rnas or lncrnas may play signif...                    False  \n",
      "1  small rna molecules are found in complex cells...                    False  \n",
      "2  there is unusual information here that doesnt ...                     True  \n",
      "3  when crises happen people need quick and large...                     True  \n",
      "4  this reduction helps in combating climate chan...                    False  \n"
     ]
    }
   ],
   "source": [
    "import pandas as pd\n",
    "import re\n",
    "\n",
    "# Fonction de nettoyage\n",
    "def clean_text(text):\n",
    "    text = re.sub(r\"[^a-zA-Z0-9\\s]\", \"\", text)  # Supprime caractères spéciaux (, . () [])\n",
    "    text = text.lower().strip()  # Convertit en minuscules et supprime les espaces inutiles\n",
    "    return text\n",
    "\n",
    "data['source sentence'] = data['source sentence'].apply(clean_text)\n",
    "data['simplified sentence'] = data['simplified sentence'].apply(clean_text)\n",
    "print(data.head())\n"
   ]
  },
  {
   "cell_type": "markdown",
   "metadata": {},
   "source": [
    "### Applying  Embeddings : HUGGING FACE  bge-m3!!!!"
   ]
  },
  {
   "cell_type": "markdown",
   "metadata": {},
   "source": [
    "Le modèle **`BAAI/bge-m3`** (Base General Embedding - M3) de **Hugging Face** est un modèle de génération d'embeddings textuels polyvalent et optimisé pour une variété de tâches NLP. Voici ses principales caractéristiques :\n",
    "\n",
    "### **Description du modèle BGE-M3 :**\n",
    "1. **Objectif** :\n",
    "   - Conçu pour produire des embeddings vectoriels riches et sémantiquement significatifs à partir de textes.\n",
    "   - Optimisé pour des tâches telles que :\n",
    "     - Recherche sémantique.\n",
    "     - Classification.\n",
    "     - Correspondance entre documents.\n",
    "\n",
    "2. **Architecture** :\n",
    "   - Basé sur un modèle transformer (probablement dérivé de BERT ou similaire), avec des ajustements spécifiques pour maximiser la qualité des embeddings.\n",
    "\n",
    "3. **Points forts** :\n",
    "   - **Compression efficace** : Les vecteurs générés par le modèle sont denses et bien adaptés pour des comparaisons dans un espace latent.\n",
    "   - **Polyvalence** : Convient à une large gamme de langues et de domaines grâce à un entraînement sur des corpus diversifiés.\n",
    "   - **Optimisation GPU (FP16)** : Compatible avec les calculs en demi-précision (FP16), ce qui améliore les performances sur des machines équipées de GPU.\n",
    "\n",
    "4. **Avantages pour vos données** :\n",
    "   - Permet de capturer des nuances sémantiques fines entre `source sentence` et `simplified sentence`.\n",
    "   - Génère des embeddings directement utilisables pour des tâches de classification, en réduisant la dépendance à des prétraitements supplémentaires.\n",
    "\n",
    "---\n",
    "\n",
    "### **Pourquoi le BGE-M3 a donné de meilleurs résultats ?**\n",
    "1. **Qualité des embeddings** :\n",
    "   - Le modèle capture les relations sémantiques complexes mieux que des modèles généralistes comme `all-MiniLM-L6-v2` (Sentence-BERT).\n",
    "\n",
    "2. **Alignement sémantique** :\n",
    "   - Idéal pour comparer des phrases similaires mais avec des différences significatives dans les informations.\n",
    "\n",
    "3. **Adaptation aux tâches** :\n",
    "   - Entraîné sur des objectifs adaptés à des cas comme la recherche et la classification, ce qui correspond à votre besoin.\n",
    "\n",
    "---\n"
   ]
  },
  {
   "cell_type": "markdown",
   "metadata": {},
   "source": []
  },
  {
   "cell_type": "code",
   "execution_count": 7,
   "metadata": {},
   "outputs": [
    {
     "data": {
      "application/vnd.jupyter.widget-view+json": {
       "model_id": "6114155beda64b1c8e9d19965a9cef32",
       "version_major": 2,
       "version_minor": 0
      },
      "text/plain": [
       "tokenizer_config.json:   0%|          | 0.00/444 [00:00<?, ?B/s]"
      ]
     },
     "metadata": {},
     "output_type": "display_data"
    },
    {
     "name": "stderr",
     "output_type": "stream",
     "text": [
      "c:\\Users\\hp\\AppData\\Local\\Programs\\Python\\Python311\\Lib\\site-packages\\huggingface_hub\\file_download.py:140: UserWarning: `huggingface_hub` cache-system uses symlinks by default to efficiently store duplicated files but your machine does not support them in C:\\Users\\hp\\.cache\\huggingface\\hub\\models--BAAI--bge-m3. Caching files will still work but in a degraded version that might require more space on your disk. This warning can be disabled by setting the `HF_HUB_DISABLE_SYMLINKS_WARNING` environment variable. For more details, see https://huggingface.co/docs/huggingface_hub/how-to-cache#limitations.\n",
      "To support symlinks on Windows, you either need to activate Developer Mode or to run Python as an administrator. In order to activate developer mode, see this article: https://docs.microsoft.com/en-us/windows/apps/get-started/enable-your-device-for-development\n",
      "  warnings.warn(message)\n"
     ]
    },
    {
     "data": {
      "application/vnd.jupyter.widget-view+json": {
       "model_id": "9613fc2ab56c41d3977241ae39a18524",
       "version_major": 2,
       "version_minor": 0
      },
      "text/plain": [
       "sentencepiece.bpe.model:   0%|          | 0.00/5.07M [00:00<?, ?B/s]"
      ]
     },
     "metadata": {},
     "output_type": "display_data"
    },
    {
     "data": {
      "application/vnd.jupyter.widget-view+json": {
       "model_id": "6038cccc679a40d385417fed17fe4421",
       "version_major": 2,
       "version_minor": 0
      },
      "text/plain": [
       "tokenizer.json:   0%|          | 0.00/17.1M [00:00<?, ?B/s]"
      ]
     },
     "metadata": {},
     "output_type": "display_data"
    },
    {
     "data": {
      "application/vnd.jupyter.widget-view+json": {
       "model_id": "4e075729cd274c8db5d0cf359b72e629",
       "version_major": 2,
       "version_minor": 0
      },
      "text/plain": [
       "special_tokens_map.json:   0%|          | 0.00/964 [00:00<?, ?B/s]"
      ]
     },
     "metadata": {},
     "output_type": "display_data"
    },
    {
     "data": {
      "application/vnd.jupyter.widget-view+json": {
       "model_id": "773b7c0a5005455f828f67dd1e9eb629",
       "version_major": 2,
       "version_minor": 0
      },
      "text/plain": [
       "Fetching 30 files:   0%|          | 0/30 [00:00<?, ?it/s]"
      ]
     },
     "metadata": {},
     "output_type": "display_data"
    },
    {
     "data": {
      "application/vnd.jupyter.widget-view+json": {
       "model_id": "7a42a3556a96497381a5a0d09431654e",
       "version_major": 2,
       "version_minor": 0
      },
      "text/plain": [
       ".gitattributes:   0%|          | 0.00/1.63k [00:00<?, ?B/s]"
      ]
     },
     "metadata": {},
     "output_type": "display_data"
    },
    {
     "data": {
      "application/vnd.jupyter.widget-view+json": {
       "model_id": "d18a6e8a17ec48a99f2bcb4103a40ae5",
       "version_major": 2,
       "version_minor": 0
      },
      "text/plain": [
       "config_sentence_transformers.json:   0%|          | 0.00/123 [00:00<?, ?B/s]"
      ]
     },
     "metadata": {},
     "output_type": "display_data"
    },
    {
     "data": {
      "application/vnd.jupyter.widget-view+json": {
       "model_id": "ee85f43a957f4a6fb6b986b63195496e",
       "version_major": 2,
       "version_minor": 0
      },
      "text/plain": [
       "imgs/bm25.jpg:   0%|          | 0.00/132k [00:00<?, ?B/s]"
      ]
     },
     "metadata": {},
     "output_type": "display_data"
    },
    {
     "data": {
      "application/vnd.jupyter.widget-view+json": {
       "model_id": "0c2c89d9a84241989c4ce86343c25636",
       "version_major": 2,
       "version_minor": 0
      },
      "text/plain": [
       "README.md:   0%|          | 0.00/15.8k [00:00<?, ?B/s]"
      ]
     },
     "metadata": {},
     "output_type": "display_data"
    },
    {
     "data": {
      "application/vnd.jupyter.widget-view+json": {
       "model_id": "5620a9732159495aaf784235bd80c79c",
       "version_major": 2,
       "version_minor": 0
      },
      "text/plain": [
       "1_Pooling/config.json:   0%|          | 0.00/191 [00:00<?, ?B/s]"
      ]
     },
     "metadata": {},
     "output_type": "display_data"
    },
    {
     "data": {
      "application/vnd.jupyter.widget-view+json": {
       "model_id": "96512b6b975542009dff91e35923230c",
       "version_major": 2,
       "version_minor": 0
      },
      "text/plain": [
       "imgs/.DS_Store:   0%|          | 0.00/6.15k [00:00<?, ?B/s]"
      ]
     },
     "metadata": {},
     "output_type": "display_data"
    },
    {
     "data": {
      "application/vnd.jupyter.widget-view+json": {
       "model_id": "9e918ba828b14bdd90c5db132359c878",
       "version_major": 2,
       "version_minor": 0
      },
      "text/plain": [
       "config.json:   0%|          | 0.00/687 [00:00<?, ?B/s]"
      ]
     },
     "metadata": {},
     "output_type": "display_data"
    },
    {
     "data": {
      "application/vnd.jupyter.widget-view+json": {
       "model_id": "e106665710dc4da4b3d8cec109dd8599",
       "version_major": 2,
       "version_minor": 0
      },
      "text/plain": [
       "colbert_linear.pt:   0%|          | 0.00/2.10M [00:00<?, ?B/s]"
      ]
     },
     "metadata": {},
     "output_type": "display_data"
    },
    {
     "data": {
      "application/vnd.jupyter.widget-view+json": {
       "model_id": "7db618bb9ce7408680f2ae13adb56da5",
       "version_major": 2,
       "version_minor": 0
      },
      "text/plain": [
       "imgs/long.jpg:   0%|          | 0.00/485k [00:00<?, ?B/s]"
      ]
     },
     "metadata": {},
     "output_type": "display_data"
    },
    {
     "data": {
      "application/vnd.jupyter.widget-view+json": {
       "model_id": "1586287acaee465984504a8cf58e724c",
       "version_major": 2,
       "version_minor": 0
      },
      "text/plain": [
       "imgs/nqa.jpg:   0%|          | 0.00/158k [00:00<?, ?B/s]"
      ]
     },
     "metadata": {},
     "output_type": "display_data"
    },
    {
     "data": {
      "application/vnd.jupyter.widget-view+json": {
       "model_id": "aafbbf6da09b422fa972ea2bfd572c12",
       "version_major": 2,
       "version_minor": 0
      },
      "text/plain": [
       "imgs/miracl.jpg:   0%|          | 0.00/576k [00:00<?, ?B/s]"
      ]
     },
     "metadata": {},
     "output_type": "display_data"
    },
    {
     "data": {
      "application/vnd.jupyter.widget-view+json": {
       "model_id": "5e96fcfbcadd407e9e9cefe649a04854",
       "version_major": 2,
       "version_minor": 0
      },
      "text/plain": [
       "long.jpg:   0%|          | 0.00/127k [00:00<?, ?B/s]"
      ]
     },
     "metadata": {},
     "output_type": "display_data"
    },
    {
     "data": {
      "application/vnd.jupyter.widget-view+json": {
       "model_id": "d0427fbd630f40b4bfd3708b862d994f",
       "version_major": 2,
       "version_minor": 0
      },
      "text/plain": [
       "imgs/mkqa.jpg:   0%|          | 0.00/608k [00:00<?, ?B/s]"
      ]
     },
     "metadata": {},
     "output_type": "display_data"
    },
    {
     "data": {
      "application/vnd.jupyter.widget-view+json": {
       "model_id": "b6c8c55116a9468796fee4456cfb09f7",
       "version_major": 2,
       "version_minor": 0
      },
      "text/plain": [
       "modules.json:   0%|          | 0.00/349 [00:00<?, ?B/s]"
      ]
     },
     "metadata": {},
     "output_type": "display_data"
    },
    {
     "data": {
      "application/vnd.jupyter.widget-view+json": {
       "model_id": "5065076e09ec4217a28cfec344d4b7e5",
       "version_major": 2,
       "version_minor": 0
      },
      "text/plain": [
       "onnx/Constant_7_attr__value:   0%|          | 0.00/65.6k [00:00<?, ?B/s]"
      ]
     },
     "metadata": {},
     "output_type": "display_data"
    },
    {
     "data": {
      "application/vnd.jupyter.widget-view+json": {
       "model_id": "25fb87e3c96345c99ca63dff63bdf8f5",
       "version_major": 2,
       "version_minor": 0
      },
      "text/plain": [
       "imgs/others.webp:   0%|          | 0.00/21.0k [00:00<?, ?B/s]"
      ]
     },
     "metadata": {},
     "output_type": "display_data"
    },
    {
     "data": {
      "application/vnd.jupyter.widget-view+json": {
       "model_id": "dce363490a7f4dae8fcce5eb559b2f7b",
       "version_major": 2,
       "version_minor": 0
      },
      "text/plain": [
       "onnx/config.json:   0%|          | 0.00/698 [00:00<?, ?B/s]"
      ]
     },
     "metadata": {},
     "output_type": "display_data"
    },
    {
     "data": {
      "application/vnd.jupyter.widget-view+json": {
       "model_id": "15d29e9389c44ccf9ad25769d51b342a",
       "version_major": 2,
       "version_minor": 0
      },
      "text/plain": [
       "model.onnx:   0%|          | 0.00/725k [00:00<?, ?B/s]"
      ]
     },
     "metadata": {},
     "output_type": "display_data"
    },
    {
     "data": {
      "application/vnd.jupyter.widget-view+json": {
       "model_id": "4821f9eae6d44c19b4082085e6833ecb",
       "version_major": 2,
       "version_minor": 0
      },
      "text/plain": [
       "model.onnx_data:   0%|          | 0.00/2.27G [00:00<?, ?B/s]"
      ]
     },
     "metadata": {},
     "output_type": "display_data"
    },
    {
     "data": {
      "application/vnd.jupyter.widget-view+json": {
       "model_id": "94c6df85bb65483da1ff3d7ae5618377",
       "version_major": 2,
       "version_minor": 0
      },
      "text/plain": [
       "onnx/special_tokens_map.json:   0%|          | 0.00/964 [00:00<?, ?B/s]"
      ]
     },
     "metadata": {},
     "output_type": "display_data"
    },
    {
     "data": {
      "application/vnd.jupyter.widget-view+json": {
       "model_id": "21a72e936935479cbe14733fe7158b03",
       "version_major": 2,
       "version_minor": 0
      },
      "text/plain": [
       "sentencepiece.bpe.model:   0%|          | 0.00/5.07M [00:00<?, ?B/s]"
      ]
     },
     "metadata": {},
     "output_type": "display_data"
    },
    {
     "data": {
      "application/vnd.jupyter.widget-view+json": {
       "model_id": "6087a8b3bf13444d884658f85d815153",
       "version_major": 2,
       "version_minor": 0
      },
      "text/plain": [
       "onnx/tokenizer_config.json:   0%|          | 0.00/1.17k [00:00<?, ?B/s]"
      ]
     },
     "metadata": {},
     "output_type": "display_data"
    },
    {
     "data": {
      "application/vnd.jupyter.widget-view+json": {
       "model_id": "ecfb5b40ba764b04893821a7648814a5",
       "version_major": 2,
       "version_minor": 0
      },
      "text/plain": [
       "tokenizer.json:   0%|          | 0.00/17.1M [00:00<?, ?B/s]"
      ]
     },
     "metadata": {},
     "output_type": "display_data"
    },
    {
     "data": {
      "application/vnd.jupyter.widget-view+json": {
       "model_id": "0dfdfeca863f4942a7f2263a67347abe",
       "version_major": 2,
       "version_minor": 0
      },
      "text/plain": [
       "sentence_bert_config.json:   0%|          | 0.00/54.0 [00:00<?, ?B/s]"
      ]
     },
     "metadata": {},
     "output_type": "display_data"
    },
    {
     "data": {
      "application/vnd.jupyter.widget-view+json": {
       "model_id": "9f7eccfde3184146ab8c8d19e24d7c6e",
       "version_major": 2,
       "version_minor": 0
      },
      "text/plain": [
       "pytorch_model.bin:   0%|          | 0.00/2.27G [00:00<?, ?B/s]"
      ]
     },
     "metadata": {},
     "output_type": "display_data"
    },
    {
     "data": {
      "application/vnd.jupyter.widget-view+json": {
       "model_id": "de98239be6ac4e7483795d90bd8009e4",
       "version_major": 2,
       "version_minor": 0
      },
      "text/plain": [
       "sparse_linear.pt:   0%|          | 0.00/3.52k [00:00<?, ?B/s]"
      ]
     },
     "metadata": {},
     "output_type": "display_data"
    },
    {
     "name": "stderr",
     "output_type": "stream",
     "text": [
      "c:\\Users\\hp\\AppData\\Local\\Programs\\Python\\Python311\\Lib\\site-packages\\torch\\_utils.py:776: UserWarning: TypedStorage is deprecated. It will be removed in the future and UntypedStorage will be the only storage class. This should only matter to you if you are using storages directly.  To access UntypedStorage directly, use tensor.untyped_storage() instead of tensor.storage()\n",
      "  return self.fget.__get__(instance, owner)()\n",
      "You're using a XLMRobertaTokenizerFast tokenizer. Please note that with a fast tokenizer, using the `__call__` method is faster than using a method to encode the text followed by a call to the `pad` method to get a padded encoding.\n"
     ]
    },
    {
     "name": "stdout",
     "output_type": "stream",
     "text": [
      "                                     source sentence  \\\n",
      "0  0noncoding rnas lncrnas may play critical role...   \n",
      "1  recently lncrnas have been widely identified a...   \n",
      "2  however there is rare information about them i...   \n",
      "3  during humanitarian crises there is a need for...   \n",
      "4  such need creates the base for misinformation ...   \n",
      "\n",
      "                                 simplified sentence  Out-of-Scope Generation  \\\n",
      "0  long noncoding rnas or lncrnas may play signif...                    False   \n",
      "1  small rna molecules are found in complex cells...                    False   \n",
      "2  there is unusual information here that doesnt ...                     True   \n",
      "3  when crises happen people need quick and large...                     True   \n",
      "4  this reduction helps in combating climate chan...                    False   \n",
      "\n",
      "                                    source_embedding  \\\n",
      "0  {'dense_vecs': [-0.03040701, 0.020827428, -0.0...   \n",
      "1  {'dense_vecs': [-0.037408523, 0.016041253, -0....   \n",
      "2  {'dense_vecs': [-0.03741509, 0.04921532, -0.02...   \n",
      "3  {'dense_vecs': [0.017227065, 0.002789266, -0.0...   \n",
      "4  {'dense_vecs': [0.00042183953, 0.011622541, -0...   \n",
      "\n",
      "                                simplified_embedding  \\\n",
      "0  {'dense_vecs': [-0.061536856, 0.0012286099, -0...   \n",
      "1  {'dense_vecs': [-0.03323403, 0.009967967, -0.0...   \n",
      "2  {'dense_vecs': [-0.027620194, 0.03375707, -0.0...   \n",
      "3  {'dense_vecs': [0.0112857325, 0.020102756, -0....   \n",
      "4  {'dense_vecs': [-0.04483482, 0.012996589, -0.0...   \n",
      "\n",
      "                                       source_latent  \\\n",
      "0  {'dense_vecs': [-0.03040701, 0.020827428, -0.0...   \n",
      "1  {'dense_vecs': [-0.037408523, 0.016041253, -0....   \n",
      "2  {'dense_vecs': [-0.03741509, 0.04921532, -0.02...   \n",
      "3  {'dense_vecs': [0.017227065, 0.002789266, -0.0...   \n",
      "4  {'dense_vecs': [0.00042183953, 0.011622541, -0...   \n",
      "\n",
      "                                   simplified_latent  \n",
      "0  {'dense_vecs': [-0.061536856, 0.0012286099, -0...  \n",
      "1  {'dense_vecs': [-0.03323403, 0.009967967, -0.0...  \n",
      "2  {'dense_vecs': [-0.027620194, 0.03375707, -0.0...  \n",
      "3  {'dense_vecs': [0.0112857325, 0.020102756, -0....  \n",
      "4  {'dense_vecs': [-0.04483482, 0.012996589, -0.0...  \n"
     ]
    }
   ],
   "source": [
    "from FlagEmbedding import BGEM3FlagModel\n",
    "import pandas as pd\n",
    "import numpy as np\n",
    "\n",
    "# Charger le modèle BGEM3FlagModel\n",
    "model = BGEM3FlagModel('BAAI/bge-m3', use_fp16=True)\n",
    "\n",
    "# Générer les embeddings pour chaque colonne en utilisant BGEM3FlagModel\n",
    "data['source_embedding'] = data['source sentence'].apply(lambda x: model.encode(x))\n",
    "data['simplified_embedding'] = data['simplified sentence'].apply(lambda x: model.encode(x))\n",
    "\n",
    "# Conversion des embeddings en matrice\n",
    "source_embeddings = np.vstack(data['source_embedding'].values)\n",
    "simplified_embeddings = np.vstack(data['simplified_embedding'].values)\n",
    "\n",
    "# Ajouter les vecteurs d'embeddings directement au DataFrame\n",
    "data['source_latent'] = data['source_embedding']\n",
    "data['simplified_latent'] = data['simplified_embedding']\n",
    "\n",
    "# Afficher les données avec les colonnes embeddings\n",
    "print(data.head())"
   ]
  },
  {
   "cell_type": "code",
   "execution_count": 21,
   "metadata": {},
   "outputs": [
    {
     "data": {
      "text/html": [
       "<div>\n",
       "<style scoped>\n",
       "    .dataframe tbody tr th:only-of-type {\n",
       "        vertical-align: middle;\n",
       "    }\n",
       "\n",
       "    .dataframe tbody tr th {\n",
       "        vertical-align: top;\n",
       "    }\n",
       "\n",
       "    .dataframe thead th {\n",
       "        text-align: right;\n",
       "    }\n",
       "</style>\n",
       "<table border=\"1\" class=\"dataframe\">\n",
       "  <thead>\n",
       "    <tr style=\"text-align: right;\">\n",
       "      <th></th>\n",
       "      <th>Out-of-Scope Generation</th>\n",
       "      <th>source_latent</th>\n",
       "      <th>simplified_latent</th>\n",
       "    </tr>\n",
       "  </thead>\n",
       "  <tbody>\n",
       "    <tr>\n",
       "      <th>0</th>\n",
       "      <td>False</td>\n",
       "      <td>{'dense_vecs': [-0.03040701, 0.020827428, -0.0...</td>\n",
       "      <td>{'dense_vecs': [-0.061536856, 0.0012286099, -0...</td>\n",
       "    </tr>\n",
       "  </tbody>\n",
       "</table>\n",
       "</div>"
      ],
      "text/plain": [
       "   Out-of-Scope Generation                                      source_latent  \\\n",
       "0                    False  {'dense_vecs': [-0.03040701, 0.020827428, -0.0...   \n",
       "\n",
       "                                   simplified_latent  \n",
       "0  {'dense_vecs': [-0.061536856, 0.0012286099, -0...  "
      ]
     },
     "execution_count": 21,
     "metadata": {},
     "output_type": "execute_result"
    }
   ],
   "source": [
    "data.head(1)"
   ]
  },
  {
   "cell_type": "code",
   "execution_count": 22,
   "metadata": {},
   "outputs": [],
   "source": [
    "import numpy as np\n",
    "\n",
    "# Extraire les vecteurs denses des colonnes d'embeddings\n",
    "data['source_embedding'] = data['source_latent'].apply(lambda x: np.array(x['dense_vecs']))\n",
    "data['simplified_embedding'] = data['simplified_latent'].apply(lambda x: np.array(x['dense_vecs']))\n"
   ]
  },
  {
   "cell_type": "code",
   "execution_count": 26,
   "metadata": {},
   "outputs": [
    {
     "data": {
      "text/html": [
       "<div>\n",
       "<style scoped>\n",
       "    .dataframe tbody tr th:only-of-type {\n",
       "        vertical-align: middle;\n",
       "    }\n",
       "\n",
       "    .dataframe tbody tr th {\n",
       "        vertical-align: top;\n",
       "    }\n",
       "\n",
       "    .dataframe thead th {\n",
       "        text-align: right;\n",
       "    }\n",
       "</style>\n",
       "<table border=\"1\" class=\"dataframe\">\n",
       "  <thead>\n",
       "    <tr style=\"text-align: right;\">\n",
       "      <th></th>\n",
       "      <th>Out-of-Scope Generation</th>\n",
       "      <th>source_latent</th>\n",
       "      <th>simplified_latent</th>\n",
       "      <th>source_embedding</th>\n",
       "      <th>simplified_embedding</th>\n",
       "      <th>similarity</th>\n",
       "    </tr>\n",
       "  </thead>\n",
       "  <tbody>\n",
       "    <tr>\n",
       "      <th>0</th>\n",
       "      <td>False</td>\n",
       "      <td>{'dense_vecs': [-0.03040701, 0.020827428, -0.0...</td>\n",
       "      <td>{'dense_vecs': [-0.061536856, 0.0012286099, -0...</td>\n",
       "      <td>[-0.03040701, 0.020827428, -0.024075337, 0.066...</td>\n",
       "      <td>[-0.061536856, 0.0012286099, -0.028455336, 0.0...</td>\n",
       "      <td>0.819644</td>\n",
       "    </tr>\n",
       "    <tr>\n",
       "      <th>1</th>\n",
       "      <td>False</td>\n",
       "      <td>{'dense_vecs': [-0.037408523, 0.016041253, -0....</td>\n",
       "      <td>{'dense_vecs': [-0.03323403, 0.009967967, -0.0...</td>\n",
       "      <td>[-0.037408523, 0.016041253, -0.04064109, 0.018...</td>\n",
       "      <td>[-0.03323403, 0.009967967, -0.016377063, 0.017...</td>\n",
       "      <td>0.617392</td>\n",
       "    </tr>\n",
       "    <tr>\n",
       "      <th>2</th>\n",
       "      <td>True</td>\n",
       "      <td>{'dense_vecs': [-0.03741509, 0.04921532, -0.02...</td>\n",
       "      <td>{'dense_vecs': [-0.027620194, 0.03375707, -0.0...</td>\n",
       "      <td>[-0.03741509, 0.04921532, -0.028045332, -0.008...</td>\n",
       "      <td>[-0.027620194, 0.03375707, -0.03720918, 0.0391...</td>\n",
       "      <td>0.679275</td>\n",
       "    </tr>\n",
       "    <tr>\n",
       "      <th>3</th>\n",
       "      <td>True</td>\n",
       "      <td>{'dense_vecs': [0.017227065, 0.002789266, -0.0...</td>\n",
       "      <td>{'dense_vecs': [0.0112857325, 0.020102756, -0....</td>\n",
       "      <td>[0.017227065, 0.002789266, -0.043252207, 0.024...</td>\n",
       "      <td>[0.0112857325, 0.020102756, -0.055427544, 0.02...</td>\n",
       "      <td>0.716800</td>\n",
       "    </tr>\n",
       "    <tr>\n",
       "      <th>4</th>\n",
       "      <td>False</td>\n",
       "      <td>{'dense_vecs': [0.00042183953, 0.011622541, -0...</td>\n",
       "      <td>{'dense_vecs': [-0.04483482, 0.012996589, -0.0...</td>\n",
       "      <td>[0.00042183953, 0.011622541, -0.046557628, 0.0...</td>\n",
       "      <td>[-0.04483482, 0.012996589, -0.009399194, 0.012...</td>\n",
       "      <td>0.417316</td>\n",
       "    </tr>\n",
       "  </tbody>\n",
       "</table>\n",
       "</div>"
      ],
      "text/plain": [
       "   Out-of-Scope Generation                                      source_latent  \\\n",
       "0                    False  {'dense_vecs': [-0.03040701, 0.020827428, -0.0...   \n",
       "1                    False  {'dense_vecs': [-0.037408523, 0.016041253, -0....   \n",
       "2                     True  {'dense_vecs': [-0.03741509, 0.04921532, -0.02...   \n",
       "3                     True  {'dense_vecs': [0.017227065, 0.002789266, -0.0...   \n",
       "4                    False  {'dense_vecs': [0.00042183953, 0.011622541, -0...   \n",
       "\n",
       "                                   simplified_latent  \\\n",
       "0  {'dense_vecs': [-0.061536856, 0.0012286099, -0...   \n",
       "1  {'dense_vecs': [-0.03323403, 0.009967967, -0.0...   \n",
       "2  {'dense_vecs': [-0.027620194, 0.03375707, -0.0...   \n",
       "3  {'dense_vecs': [0.0112857325, 0.020102756, -0....   \n",
       "4  {'dense_vecs': [-0.04483482, 0.012996589, -0.0...   \n",
       "\n",
       "                                    source_embedding  \\\n",
       "0  [-0.03040701, 0.020827428, -0.024075337, 0.066...   \n",
       "1  [-0.037408523, 0.016041253, -0.04064109, 0.018...   \n",
       "2  [-0.03741509, 0.04921532, -0.028045332, -0.008...   \n",
       "3  [0.017227065, 0.002789266, -0.043252207, 0.024...   \n",
       "4  [0.00042183953, 0.011622541, -0.046557628, 0.0...   \n",
       "\n",
       "                                simplified_embedding  similarity  \n",
       "0  [-0.061536856, 0.0012286099, -0.028455336, 0.0...    0.819644  \n",
       "1  [-0.03323403, 0.009967967, -0.016377063, 0.017...    0.617392  \n",
       "2  [-0.027620194, 0.03375707, -0.03720918, 0.0391...    0.679275  \n",
       "3  [0.0112857325, 0.020102756, -0.055427544, 0.02...    0.716800  \n",
       "4  [-0.04483482, 0.012996589, -0.009399194, 0.012...    0.417316  "
      ]
     },
     "execution_count": 26,
     "metadata": {},
     "output_type": "execute_result"
    }
   ],
   "source": [
    "data.head()"
   ]
  },
  {
   "cell_type": "markdown",
   "metadata": {},
   "source": [
    "### PCA "
   ]
  },
  {
   "cell_type": "code",
   "execution_count": 74,
   "metadata": {},
   "outputs": [],
   "source": [
    "# # Réduction de dimension à 50 via PCA\n",
    "# pca = PCA(n_components=50, random_state=42)\n",
    "# source_latent = pca.fit_transform(source_embeddings)\n",
    "# simplified_latent = pca.transform(simplified_embeddings)\n",
    "\n",
    "# # Ajouter les vecteurs réduits au DataFrame\n",
    "# data['source_latent'] = list(source_latent)\n",
    "# data['simplified_latent'] = list(simplified_latent)\n"
   ]
  },
  {
   "cell_type": "markdown",
   "metadata": {},
   "source": [
    "### FEATURE ENGINNERING "
   ]
  },
  {
   "cell_type": "markdown",
   "metadata": {},
   "source": [
    "# Fonction pour calculer la similarité cosinus "
   ]
  },
  {
   "cell_type": "code",
   "execution_count": 27,
   "metadata": {},
   "outputs": [],
   "source": [
    "from sklearn.metrics.pairwise import cosine_similarity\n",
    "from scipy.spatial.distance import euclidean\n",
    "\n",
    "def compare_embeddings(vec1, vec2, metric='cosine'):\n",
    "    if metric == 'cosine':\n",
    "        return cosine_similarity([vec1], [vec2])[0][0]\n",
    "    elif metric == 'euclidean':\n",
    "        return euclidean(vec1, vec2)\n",
    "\n",
    "# Ajouter une colonne de similarité au DataFrame\n",
    "data['similarity'] = data.apply(\n",
    "    lambda row: compare_embeddings(row['source_embedding'], row['simplified_embedding'], metric='cosine'), axis=1\n",
    ")\n",
    "\n",
    "# # Afficher le DataFrame final\n",
    "# print(data[['source embedding', 'simplified embedding', 'similarity']])\n",
    "\n",
    "\n"
   ]
  },
  {
   "cell_type": "code",
   "execution_count": 30,
   "metadata": {},
   "outputs": [],
   "source": [
    "# data.drop(columns=['source sentence','simplified sentence','source_embedding','simplified_embedding'], inplace=True)\n",
    "data.drop(columns=['source_latent','simplified_latent'], inplace=True)"
   ]
  },
  {
   "cell_type": "code",
   "execution_count": 31,
   "metadata": {},
   "outputs": [
    {
     "data": {
      "text/html": [
       "<div>\n",
       "<style scoped>\n",
       "    .dataframe tbody tr th:only-of-type {\n",
       "        vertical-align: middle;\n",
       "    }\n",
       "\n",
       "    .dataframe tbody tr th {\n",
       "        vertical-align: top;\n",
       "    }\n",
       "\n",
       "    .dataframe thead th {\n",
       "        text-align: right;\n",
       "    }\n",
       "</style>\n",
       "<table border=\"1\" class=\"dataframe\">\n",
       "  <thead>\n",
       "    <tr style=\"text-align: right;\">\n",
       "      <th></th>\n",
       "      <th>Out-of-Scope Generation</th>\n",
       "      <th>source_embedding</th>\n",
       "      <th>simplified_embedding</th>\n",
       "      <th>similarity</th>\n",
       "    </tr>\n",
       "  </thead>\n",
       "  <tbody>\n",
       "    <tr>\n",
       "      <th>0</th>\n",
       "      <td>False</td>\n",
       "      <td>[-0.03040701, 0.020827428, -0.024075337, 0.066...</td>\n",
       "      <td>[-0.061536856, 0.0012286099, -0.028455336, 0.0...</td>\n",
       "      <td>0.819644</td>\n",
       "    </tr>\n",
       "    <tr>\n",
       "      <th>1</th>\n",
       "      <td>False</td>\n",
       "      <td>[-0.037408523, 0.016041253, -0.04064109, 0.018...</td>\n",
       "      <td>[-0.03323403, 0.009967967, -0.016377063, 0.017...</td>\n",
       "      <td>0.617392</td>\n",
       "    </tr>\n",
       "    <tr>\n",
       "      <th>2</th>\n",
       "      <td>True</td>\n",
       "      <td>[-0.03741509, 0.04921532, -0.028045332, -0.008...</td>\n",
       "      <td>[-0.027620194, 0.03375707, -0.03720918, 0.0391...</td>\n",
       "      <td>0.679275</td>\n",
       "    </tr>\n",
       "    <tr>\n",
       "      <th>3</th>\n",
       "      <td>True</td>\n",
       "      <td>[0.017227065, 0.002789266, -0.043252207, 0.024...</td>\n",
       "      <td>[0.0112857325, 0.020102756, -0.055427544, 0.02...</td>\n",
       "      <td>0.716800</td>\n",
       "    </tr>\n",
       "    <tr>\n",
       "      <th>4</th>\n",
       "      <td>False</td>\n",
       "      <td>[0.00042183953, 0.011622541, -0.046557628, 0.0...</td>\n",
       "      <td>[-0.04483482, 0.012996589, -0.009399194, 0.012...</td>\n",
       "      <td>0.417316</td>\n",
       "    </tr>\n",
       "  </tbody>\n",
       "</table>\n",
       "</div>"
      ],
      "text/plain": [
       "   Out-of-Scope Generation                                   source_embedding  \\\n",
       "0                    False  [-0.03040701, 0.020827428, -0.024075337, 0.066...   \n",
       "1                    False  [-0.037408523, 0.016041253, -0.04064109, 0.018...   \n",
       "2                     True  [-0.03741509, 0.04921532, -0.028045332, -0.008...   \n",
       "3                     True  [0.017227065, 0.002789266, -0.043252207, 0.024...   \n",
       "4                    False  [0.00042183953, 0.011622541, -0.046557628, 0.0...   \n",
       "\n",
       "                                simplified_embedding  similarity  \n",
       "0  [-0.061536856, 0.0012286099, -0.028455336, 0.0...    0.819644  \n",
       "1  [-0.03323403, 0.009967967, -0.016377063, 0.017...    0.617392  \n",
       "2  [-0.027620194, 0.03375707, -0.03720918, 0.0391...    0.679275  \n",
       "3  [0.0112857325, 0.020102756, -0.055427544, 0.02...    0.716800  \n",
       "4  [-0.04483482, 0.012996589, -0.009399194, 0.012...    0.417316  "
      ]
     },
     "execution_count": 31,
     "metadata": {},
     "output_type": "execute_result"
    }
   ],
   "source": [
    "data.head()"
   ]
  },
  {
   "cell_type": "markdown",
   "metadata": {},
   "source": [
    "### Importing Packages!!"
   ]
  },
  {
   "cell_type": "code",
   "execution_count": 32,
   "metadata": {},
   "outputs": [],
   "source": [
    "import numpy as np\n",
    "import pandas as pd\n",
    "from imblearn.over_sampling import SMOTE\n",
    "from sklearn.model_selection import train_test_split\n",
    "from sklearn.linear_model import LogisticRegression\n",
    "from sklearn.metrics import classification_report, confusion_matrix\n",
    "from sklearn.metrics import balanced_accuracy_score\n",
    "from imblearn.over_sampling import SMOTE\n",
    "from sklearn.svm import SVC"
   ]
  },
  {
   "cell_type": "code",
   "execution_count": 34,
   "metadata": {},
   "outputs": [
    {
     "data": {
      "text/html": [
       "<div>\n",
       "<style scoped>\n",
       "    .dataframe tbody tr th:only-of-type {\n",
       "        vertical-align: middle;\n",
       "    }\n",
       "\n",
       "    .dataframe tbody tr th {\n",
       "        vertical-align: top;\n",
       "    }\n",
       "\n",
       "    .dataframe thead th {\n",
       "        text-align: right;\n",
       "    }\n",
       "</style>\n",
       "<table border=\"1\" class=\"dataframe\">\n",
       "  <thead>\n",
       "    <tr style=\"text-align: right;\">\n",
       "      <th></th>\n",
       "      <th>Out-of-Scope Generation</th>\n",
       "      <th>source_embedding</th>\n",
       "      <th>simplified_embedding</th>\n",
       "      <th>similarity</th>\n",
       "    </tr>\n",
       "  </thead>\n",
       "  <tbody>\n",
       "    <tr>\n",
       "      <th>0</th>\n",
       "      <td>False</td>\n",
       "      <td>[-0.03040701, 0.020827428, -0.024075337, 0.066...</td>\n",
       "      <td>[-0.061536856, 0.0012286099, -0.028455336, 0.0...</td>\n",
       "      <td>0.819644</td>\n",
       "    </tr>\n",
       "  </tbody>\n",
       "</table>\n",
       "</div>"
      ],
      "text/plain": [
       "   Out-of-Scope Generation                                   source_embedding  \\\n",
       "0                    False  [-0.03040701, 0.020827428, -0.024075337, 0.066...   \n",
       "\n",
       "                                simplified_embedding  similarity  \n",
       "0  [-0.061536856, 0.0012286099, -0.028455336, 0.0...    0.819644  "
      ]
     },
     "execution_count": 34,
     "metadata": {},
     "output_type": "execute_result"
    }
   ],
   "source": [
    "data.head(1)"
   ]
  },
  {
   "cell_type": "markdown",
   "metadata": {},
   "source": [
    "### SPLIT"
   ]
  },
  {
   "cell_type": "code",
   "execution_count": 35,
   "metadata": {},
   "outputs": [],
   "source": [
    "# X = data[['source_latent', 'simplified_latent', 'similarity']]\n",
    "X = data[['source_embedding', 'simplified_embedding']]\n",
    "y = data['Out-of-Scope Generation'].astype(int)\n",
    "\n",
    "# Combiner les colonnes d'embeddings en un vecteur unique\n",
    "def combine_features(row):\n",
    "    # return np.concatenate([row['source_latent'], row['simplified_latent'], [row['similarity']]])\n",
    "    return np.concatenate([row['source_embedding'], row['simplified_embedding']])\n",
    "# Appliquer la combinaison sur toutes les lignes\n",
    "X_combined = np.array(X.apply(combine_features, axis=1).tolist())\n",
    "\n",
    "# Diviser en ensembles d'entraînement et de test\n",
    "X_train, X_test, y_train, y_test = train_test_split(X_combined, y, test_size=0.2, random_state=42)\n"
   ]
  },
  {
   "cell_type": "markdown",
   "metadata": {},
   "source": [
    "## SMOTE OVERSAMPLING CLASSE MINORITAIRE"
   ]
  },
  {
   "cell_type": "code",
   "execution_count": 36,
   "metadata": {},
   "outputs": [],
   "source": [
    "smote = SMOTE(random_state=42)\n",
    "X_train_resampled, y_train_resampled = smote.fit_resample(X_train, y_train)\n"
   ]
  },
  {
   "cell_type": "markdown",
   "metadata": {},
   "source": [
    "## Logistic Regression"
   ]
  },
  {
   "cell_type": "code",
   "execution_count": 37,
   "metadata": {},
   "outputs": [],
   "source": [
    "logistic_model = LogisticRegression(max_iter=1000, random_state=42)\n",
    "logistic_model.fit(X_train_resampled, y_train_resampled)\n",
    "y_pred = logistic_model.predict(X_test)\n"
   ]
  },
  {
   "cell_type": "code",
   "execution_count": 38,
   "metadata": {},
   "outputs": [
    {
     "name": "stdout",
     "output_type": "stream",
     "text": [
      "Confusion Matrix:\n",
      "[[50  6]\n",
      " [ 2  8]]\n",
      "\n",
      "Classification Report:\n",
      "              precision    recall  f1-score   support\n",
      "\n",
      "       False       0.96      0.89      0.93        56\n",
      "        True       0.57      0.80      0.67        10\n",
      "\n",
      "    accuracy                           0.88        66\n",
      "   macro avg       0.77      0.85      0.80        66\n",
      "weighted avg       0.90      0.88      0.89        66\n",
      "\n"
     ]
    }
   ],
   "source": [
    "print(\"Confusion Matrix:\")\n",
    "print(confusion_matrix(y_test, y_pred))\n",
    "print(\"\\nClassification Report:\")\n",
    "print(classification_report(y_test, y_pred, target_names=[\"False\", \"True\"]))\n"
   ]
  },
  {
   "cell_type": "code",
   "execution_count": 39,
   "metadata": {},
   "outputs": [
    {
     "name": "stdout",
     "output_type": "stream",
     "text": [
      "The balanced accuracy of the model is 0.846\n"
     ]
    }
   ],
   "source": [
    "print(f\"The balanced accuracy of the model is \"\n",
    "      f\"{balanced_accuracy_score(y_test, y_pred):.3f}\")"
   ]
  },
  {
   "cell_type": "markdown",
   "metadata": {},
   "source": [
    "### Modeling with svm"
   ]
  },
  {
   "cell_type": "code",
   "execution_count": 40,
   "metadata": {},
   "outputs": [],
   "source": [
    "svm_model = SVC(kernel='linear', random_state=42)\n",
    "svm_model.fit(X_train_resampled, y_train_resampled)\n",
    "y_pred = svm_model.predict(X_test)\n"
   ]
  },
  {
   "cell_type": "code",
   "execution_count": 41,
   "metadata": {},
   "outputs": [
    {
     "name": "stdout",
     "output_type": "stream",
     "text": [
      "Confusion Matrix:\n",
      "[[50  6]\n",
      " [ 4  6]]\n",
      "\n",
      "Classification Report:\n",
      "              precision    recall  f1-score   support\n",
      "\n",
      "       False       0.93      0.89      0.91        56\n",
      "        True       0.50      0.60      0.55        10\n",
      "\n",
      "    accuracy                           0.85        66\n",
      "   macro avg       0.71      0.75      0.73        66\n",
      "weighted avg       0.86      0.85      0.85        66\n",
      "\n"
     ]
    }
   ],
   "source": [
    "print(\"Confusion Matrix:\")\n",
    "print(confusion_matrix(y_test, y_pred))\n",
    "\n",
    "print(\"\\nClassification Report:\")\n",
    "print(classification_report(y_test, y_pred, target_names=[\"False\", \"True\"]))"
   ]
  },
  {
   "cell_type": "code",
   "execution_count": 42,
   "metadata": {},
   "outputs": [
    {
     "name": "stdout",
     "output_type": "stream",
     "text": [
      "The balanced accuracy of the model is 0.746\n"
     ]
    }
   ],
   "source": [
    "print(f\"The balanced accuracy of the model is \"\n",
    "      f\"{balanced_accuracy_score(y_test, y_pred):.3f}\")"
   ]
  },
  {
   "cell_type": "markdown",
   "metadata": {},
   "source": [
    "### GRID SEARCH FOR BETTER SCORING!"
   ]
  },
  {
   "cell_type": "code",
   "execution_count": 43,
   "metadata": {},
   "outputs": [
    {
     "name": "stdout",
     "output_type": "stream",
     "text": [
      "Best Parameters: {'C': 10, 'gamma': 'scale', 'kernel': 'rbf'}\n",
      "Best F1 Score: 0.2833333333333333\n",
      "Confusion Matrix:\n",
      "[[55  1]\n",
      " [ 6  4]]\n",
      "\n",
      "Classification Report:\n",
      "              precision    recall  f1-score   support\n",
      "\n",
      "       False       0.90      0.98      0.94        56\n",
      "        True       0.80      0.40      0.53        10\n",
      "\n",
      "    accuracy                           0.89        66\n",
      "   macro avg       0.85      0.69      0.74        66\n",
      "weighted avg       0.89      0.89      0.88        66\n",
      "\n"
     ]
    }
   ],
   "source": [
    "from sklearn.model_selection import GridSearchCV\n",
    "from sklearn.svm import SVC\n",
    "\n",
    "# Définir les hyperparamètres à tester\n",
    "param_grid = {\n",
    "    'C': [0.1, 1, 10, 100],\n",
    "    'kernel': ['linear', 'rbf', 'poly'],\n",
    "    'gamma': ['scale', 'auto']\n",
    "}\n",
    "\n",
    "# Initialiser GridSearchCV avec SVM\n",
    "svm = SVC()\n",
    "grid_search = GridSearchCV(svm, param_grid, cv=5, scoring='f1', n_jobs=-1)\n",
    "\n",
    "# Entraîner GridSearchCV sur les données\n",
    "grid_search.fit(X_train, y_train)\n",
    "\n",
    "# Afficher les meilleurs paramètres et résultats\n",
    "print(\"Best Parameters:\", grid_search.best_params_)\n",
    "print(\"Best F1 Score:\", grid_search.best_score_)\n",
    "\n",
    "# Entraîner le modèle final avec les meilleurs paramètres\n",
    "best_svm = grid_search.best_estimator_\n",
    "y_pred = best_svm.predict(X_test)\n",
    "\n",
    "# Évaluation\n",
    "print(\"Confusion Matrix:\")\n",
    "print(confusion_matrix(y_test, y_pred))\n",
    "print(\"\\nClassification Report:\")\n",
    "print(classification_report(y_test, y_pred, target_names=[\"False\", \"True\"]))\n"
   ]
  },
  {
   "cell_type": "code",
   "execution_count": 44,
   "metadata": {},
   "outputs": [
    {
     "name": "stdout",
     "output_type": "stream",
     "text": [
      "The balanced accuracy of the model is 0.691\n"
     ]
    }
   ],
   "source": [
    "print(f\"The balanced accuracy of the model is \"\n",
    "      f\"{balanced_accuracy_score(y_test, y_pred):.3f}\")"
   ]
  }
 ],
 "metadata": {
  "kernelspec": {
   "display_name": "Python 3",
   "language": "python",
   "name": "python3"
  },
  "language_info": {
   "codemirror_mode": {
    "name": "ipython",
    "version": 3
   },
   "file_extension": ".py",
   "mimetype": "text/x-python",
   "name": "python",
   "nbconvert_exporter": "python",
   "pygments_lexer": "ipython3",
   "version": "3.11.4"
  }
 },
 "nbformat": 4,
 "nbformat_minor": 2
}
