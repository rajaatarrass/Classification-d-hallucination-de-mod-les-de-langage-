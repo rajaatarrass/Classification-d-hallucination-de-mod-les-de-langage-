{
 "cells": [
  {
   "cell_type": "markdown",
   "metadata": {},
   "source": [
    "### MONSIEUR CELUI LA EST LE PREMIER CODE FAIT AVEC UN PREMIER TYPE DEMBEDDING QUI EST LE BERT EMBEDDINGMAIS CELUI LA EST POUR LA CLASSIFICATION TYPE OUT-OFSCOPE-GENERATION\n"
   ]
  },
  {
   "cell_type": "code",
   "execution_count": 68,
   "metadata": {},
   "outputs": [
    {
     "data": {
      "text/html": [
       "<div>\n",
       "<style scoped>\n",
       "    .dataframe tbody tr th:only-of-type {\n",
       "        vertical-align: middle;\n",
       "    }\n",
       "\n",
       "    .dataframe tbody tr th {\n",
       "        vertical-align: top;\n",
       "    }\n",
       "\n",
       "    .dataframe thead th {\n",
       "        text-align: right;\n",
       "    }\n",
       "</style>\n",
       "<table border=\"1\" class=\"dataframe\">\n",
       "  <thead>\n",
       "    <tr style=\"text-align: right;\">\n",
       "      <th></th>\n",
       "      <th>source sentence</th>\n",
       "      <th>simplified sentence</th>\n",
       "      <th>run_id</th>\n",
       "      <th>snt_id</th>\n",
       "      <th>No error</th>\n",
       "      <th>Random generation</th>\n",
       "      <th>Syntax error</th>\n",
       "      <th>Contradiction</th>\n",
       "      <th>Simple punctuation / grammar errors</th>\n",
       "      <th>Redundancy</th>\n",
       "      <th>Format misalignement</th>\n",
       "      <th>Prompt misalignement</th>\n",
       "      <th>Out-of-Scope Generation</th>\n",
       "      <th>Topic shift</th>\n",
       "      <th>Oversimplification of Logical Arguments</th>\n",
       "      <th>Overgeneralization</th>\n",
       "      <th>Loss of Informative Content</th>\n",
       "      <th>Factuality hallucination</th>\n",
       "      <th>Faithfulness hallucination</th>\n",
       "      <th>Commentaire</th>\n",
       "    </tr>\n",
       "  </thead>\n",
       "  <tbody>\n",
       "    <tr>\n",
       "      <th>0</th>\n",
       "      <td>:[0],\"non-coding RNAs (lncRNAs) may play crit...</td>\n",
       "      <td>Long non-coding RNAs, or lncRNAs, may play si...</td>\n",
       "      <td>UBO_Task3.1_Phi4mini-sl</td>\n",
       "      <td>G04.2_2519200480_1</td>\n",
       "      <td>VRAI</td>\n",
       "      <td>False</td>\n",
       "      <td>False</td>\n",
       "      <td>False</td>\n",
       "      <td>False</td>\n",
       "      <td>False</td>\n",
       "      <td>False</td>\n",
       "      <td>False</td>\n",
       "      <td>False</td>\n",
       "      <td>False</td>\n",
       "      <td>False</td>\n",
       "      <td>False</td>\n",
       "      <td>False</td>\n",
       "      <td>False</td>\n",
       "      <td>False</td>\n",
       "      <td>NaN</td>\n",
       "    </tr>\n",
       "    <tr>\n",
       "      <th>1</th>\n",
       "      <td>Recently, lncRNAs have been widely identified ...</td>\n",
       "      <td>Small RNA molecules are found in complex cell...</td>\n",
       "      <td>UBO_Task3.1_Phi4mini-sl</td>\n",
       "      <td>G04.2_2519200480_2</td>\n",
       "      <td>VRAI</td>\n",
       "      <td>False</td>\n",
       "      <td>False</td>\n",
       "      <td>False</td>\n",
       "      <td>False</td>\n",
       "      <td>False</td>\n",
       "      <td>False</td>\n",
       "      <td>False</td>\n",
       "      <td>False</td>\n",
       "      <td>False</td>\n",
       "      <td>False</td>\n",
       "      <td>False</td>\n",
       "      <td>False</td>\n",
       "      <td>False</td>\n",
       "      <td>False</td>\n",
       "      <td>NaN</td>\n",
       "    </tr>\n",
       "    <tr>\n",
       "      <th>2</th>\n",
       "      <td>However, there is rare information about them ...</td>\n",
       "      <td>There is unusual information here that doesn'...</td>\n",
       "      <td>UBO_Task3.1_Phi4mini-sl</td>\n",
       "      <td>G04.2_2519200480_3</td>\n",
       "      <td>FAUX</td>\n",
       "      <td>False</td>\n",
       "      <td>False</td>\n",
       "      <td>False</td>\n",
       "      <td>False</td>\n",
       "      <td>False</td>\n",
       "      <td>False</td>\n",
       "      <td>False</td>\n",
       "      <td>True</td>\n",
       "      <td>True</td>\n",
       "      <td>False</td>\n",
       "      <td>False</td>\n",
       "      <td>False</td>\n",
       "      <td>False</td>\n",
       "      <td>False</td>\n",
       "      <td>NaN</td>\n",
       "    </tr>\n",
       "    <tr>\n",
       "      <th>3</th>\n",
       "      <td>During humanitarian crises, there is a need fo...</td>\n",
       "      <td>When crises happen, people need quick and larg...</td>\n",
       "      <td>UBO_Task3.1_Phi4mini-sl</td>\n",
       "      <td>G07.1_3007380484_1</td>\n",
       "      <td>FAUX</td>\n",
       "      <td>False</td>\n",
       "      <td>False</td>\n",
       "      <td>False</td>\n",
       "      <td>False</td>\n",
       "      <td>False</td>\n",
       "      <td>False</td>\n",
       "      <td>False</td>\n",
       "      <td>True</td>\n",
       "      <td>False</td>\n",
       "      <td>False</td>\n",
       "      <td>False</td>\n",
       "      <td>False</td>\n",
       "      <td>False</td>\n",
       "      <td>False</td>\n",
       "      <td>NaN</td>\n",
       "    </tr>\n",
       "    <tr>\n",
       "      <th>4</th>\n",
       "      <td>Such need creates the base for misinformation ...</td>\n",
       "      <td>This reduction helps in combating climate chan...</td>\n",
       "      <td>UBO_Task3.1_Phi4mini-sl</td>\n",
       "      <td>G07.1_3007380484_2</td>\n",
       "      <td>FAUX</td>\n",
       "      <td>False</td>\n",
       "      <td>False</td>\n",
       "      <td>False</td>\n",
       "      <td>False</td>\n",
       "      <td>True</td>\n",
       "      <td>False</td>\n",
       "      <td>True</td>\n",
       "      <td>False</td>\n",
       "      <td>True</td>\n",
       "      <td>False</td>\n",
       "      <td>False</td>\n",
       "      <td>False</td>\n",
       "      <td>False</td>\n",
       "      <td>False</td>\n",
       "      <td>NaN</td>\n",
       "    </tr>\n",
       "  </tbody>\n",
       "</table>\n",
       "</div>"
      ],
      "text/plain": [
       "                                     source sentence  \\\n",
       "0   :[0],\"non-coding RNAs (lncRNAs) may play crit...   \n",
       "1  Recently, lncRNAs have been widely identified ...   \n",
       "2  However, there is rare information about them ...   \n",
       "3  During humanitarian crises, there is a need fo...   \n",
       "4  Such need creates the base for misinformation ...   \n",
       "\n",
       "                                 simplified sentence                   run_id  \\\n",
       "0   Long non-coding RNAs, or lncRNAs, may play si...  UBO_Task3.1_Phi4mini-sl   \n",
       "1   Small RNA molecules are found in complex cell...  UBO_Task3.1_Phi4mini-sl   \n",
       "2   There is unusual information here that doesn'...  UBO_Task3.1_Phi4mini-sl   \n",
       "3  When crises happen, people need quick and larg...  UBO_Task3.1_Phi4mini-sl   \n",
       "4  This reduction helps in combating climate chan...  UBO_Task3.1_Phi4mini-sl   \n",
       "\n",
       "               snt_id No error  Random generation  Syntax error  \\\n",
       "0  G04.2_2519200480_1     VRAI              False         False   \n",
       "1  G04.2_2519200480_2     VRAI              False         False   \n",
       "2  G04.2_2519200480_3     FAUX              False         False   \n",
       "3  G07.1_3007380484_1     FAUX              False         False   \n",
       "4  G07.1_3007380484_2     FAUX              False         False   \n",
       "\n",
       "   Contradiction  Simple punctuation / grammar errors  Redundancy  \\\n",
       "0          False                                False       False   \n",
       "1          False                                False       False   \n",
       "2          False                                False       False   \n",
       "3          False                                False       False   \n",
       "4          False                                False        True   \n",
       "\n",
       "   Format misalignement  Prompt misalignement  Out-of-Scope Generation  \\\n",
       "0                 False                 False                    False   \n",
       "1                 False                 False                    False   \n",
       "2                 False                 False                     True   \n",
       "3                 False                 False                     True   \n",
       "4                 False                  True                    False   \n",
       "\n",
       "   Topic shift  Oversimplification of Logical Arguments  Overgeneralization  \\\n",
       "0        False                                    False               False   \n",
       "1        False                                    False               False   \n",
       "2         True                                    False               False   \n",
       "3        False                                    False               False   \n",
       "4         True                                    False               False   \n",
       "\n",
       "   Loss of Informative Content  Factuality hallucination  \\\n",
       "0                        False                     False   \n",
       "1                        False                     False   \n",
       "2                        False                     False   \n",
       "3                        False                     False   \n",
       "4                        False                     False   \n",
       "\n",
       "   Faithfulness hallucination Commentaire  \n",
       "0                       False         NaN  \n",
       "1                       False         NaN  \n",
       "2                       False         NaN  \n",
       "3                       False         NaN  \n",
       "4                       False         NaN  "
      ]
     },
     "execution_count": 68,
     "metadata": {},
     "output_type": "execute_result"
    }
   ],
   "source": [
    "import pandas as pd\n",
    "\n",
    "data=pd.read_csv(\"fusionned_file.csv\",sep=\";\")\n",
    "data.head()\n"
   ]
  },
  {
   "cell_type": "code",
   "execution_count": 69,
   "metadata": {},
   "outputs": [],
   "source": [
    "data.drop(columns=['run_id', 'snt_id','No error','Syntax error','Loss of Informative Content','Random generation','Simple punctuation / grammar errors','Redundancy','Contradiction','Format misalignement','Prompt misalignement','Topic shift',\t'Oversimplification of Logical Arguments',\t'Overgeneralization','Factuality hallucination',\t'Faithfulness hallucination',\t'Commentaire'], inplace=True)"
   ]
  },
  {
   "cell_type": "code",
   "execution_count": 70,
   "metadata": {},
   "outputs": [
    {
     "data": {
      "text/html": [
       "<div>\n",
       "<style scoped>\n",
       "    .dataframe tbody tr th:only-of-type {\n",
       "        vertical-align: middle;\n",
       "    }\n",
       "\n",
       "    .dataframe tbody tr th {\n",
       "        vertical-align: top;\n",
       "    }\n",
       "\n",
       "    .dataframe thead th {\n",
       "        text-align: right;\n",
       "    }\n",
       "</style>\n",
       "<table border=\"1\" class=\"dataframe\">\n",
       "  <thead>\n",
       "    <tr style=\"text-align: right;\">\n",
       "      <th></th>\n",
       "      <th>source sentence</th>\n",
       "      <th>simplified sentence</th>\n",
       "      <th>Out-of-Scope Generation</th>\n",
       "    </tr>\n",
       "  </thead>\n",
       "  <tbody>\n",
       "    <tr>\n",
       "      <th>0</th>\n",
       "      <td>:[0],\"non-coding RNAs (lncRNAs) may play crit...</td>\n",
       "      <td>Long non-coding RNAs, or lncRNAs, may play si...</td>\n",
       "      <td>False</td>\n",
       "    </tr>\n",
       "  </tbody>\n",
       "</table>\n",
       "</div>"
      ],
      "text/plain": [
       "                                     source sentence  \\\n",
       "0   :[0],\"non-coding RNAs (lncRNAs) may play crit...   \n",
       "\n",
       "                                 simplified sentence  Out-of-Scope Generation  \n",
       "0   Long non-coding RNAs, or lncRNAs, may play si...                    False  "
      ]
     },
     "execution_count": 70,
     "metadata": {},
     "output_type": "execute_result"
    }
   ],
   "source": [
    "data.head(1)"
   ]
  },
  {
   "cell_type": "code",
   "execution_count": 71,
   "metadata": {},
   "outputs": [
    {
     "name": "stdout",
     "output_type": "stream",
     "text": [
      "                         FALSE (%)   TRUE (%)\n",
      "Out-of-Scope Generation  86.060606  13.939394\n"
     ]
    }
   ],
   "source": [
    "bool_columns = data.columns[data.dtypes == 'bool']\n",
    "\n",
    "# Calculer les pourcentages de TRUE et FALSE pour chaque colonne booléenne\n",
    "percentages = {\n",
    "    col: {\n",
    "        'TRUE (%)': data[col].mean() * 100,\n",
    "        'FALSE (%)': (1 - data[col].mean()) * 100\n",
    "    }\n",
    "    for col in bool_columns\n",
    "}\n",
    "\n",
    "# Convertir en DataFrame pour afficher les résultats\n",
    "result_df = pd.DataFrame(percentages).T\n",
    "\n",
    "# Afficher les résultats\n",
    "#import ace_tools as tools; tools.display_dataframe_to_user(name=\"Pourcentage des Colonnes Booléennes\", dataframe=result_df)\n",
    "print(result_df)"
   ]
  },
  {
   "cell_type": "markdown",
   "metadata": {},
   "source": [
    "## Preprocessing before embeddings"
   ]
  },
  {
   "cell_type": "code",
   "execution_count": 72,
   "metadata": {},
   "outputs": [
    {
     "name": "stdout",
     "output_type": "stream",
     "text": [
      "                                     source sentence  \\\n",
      "0  0noncoding rnas lncrnas may play critical role...   \n",
      "1  recently lncrnas have been widely identified a...   \n",
      "2  however there is rare information about them i...   \n",
      "3  during humanitarian crises there is a need for...   \n",
      "4  such need creates the base for misinformation ...   \n",
      "\n",
      "                                 simplified sentence  Out-of-Scope Generation  \n",
      "0  long noncoding rnas or lncrnas may play signif...                    False  \n",
      "1  small rna molecules are found in complex cells...                    False  \n",
      "2  there is unusual information here that doesnt ...                     True  \n",
      "3  when crises happen people need quick and large...                     True  \n",
      "4  this reduction helps in combating climate chan...                    False  \n"
     ]
    }
   ],
   "source": [
    "import pandas as pd\n",
    "import re\n",
    "\n",
    "# Fonction de nettoyage\n",
    "def clean_text(text):\n",
    "    text = re.sub(r\"[^a-zA-Z0-9\\s]\", \"\", text)  # Supprime caractères spéciaux (, . () [])\n",
    "    text = text.lower().strip()  # Convertit en minuscules et supprime les espaces inutiles\n",
    "    return text\n",
    "\n",
    "data['source sentence'] = data['source sentence'].apply(clean_text)\n",
    "data['simplified sentence'] = data['simplified sentence'].apply(clean_text)\n",
    "print(data.head())\n"
   ]
  },
  {
   "cell_type": "markdown",
   "metadata": {},
   "source": [
    "### Applying  Embeddings : SENTENCE-BERT"
   ]
  },
  {
   "cell_type": "markdown",
   "metadata": {},
   "source": [
    "- Sentence-BERT (SBERT) \n",
    ": Captures the overall meaning of sentences, making it effective for identifying whether the simplified sentence stays within the scope of the source sentence."
   ]
  },
  {
   "cell_type": "code",
   "execution_count": 73,
   "metadata": {},
   "outputs": [],
   "source": [
    "from sentence_transformers import SentenceTransformer\n",
    "import pandas as pd\n",
    "from sklearn.decomposition import PCA\n",
    "import numpy as np\n",
    "\n",
    "# Charger le modèle Sentence-BERT\n",
    "model = SentenceTransformer('all-MiniLM-L6-v2')\n",
    "\n",
    "# Générer les embeddings pour chaque colonne\n",
    "data['source_embedding'] = data['source sentence'].apply(model.encode)\n",
    "data['simplified_embedding'] = data['simplified sentence'].apply(model.encode)\n",
    "\n",
    "# Conversion des embeddings en matrice pour réduction de dimension\n",
    "source_embeddings = np.vstack(data['source_embedding'].values)\n",
    "simplified_embeddings = np.vstack(data['simplified_embedding'].values)\n"
   ]
  },
  {
   "cell_type": "markdown",
   "metadata": {},
   "source": [
    "### PCA "
   ]
  },
  {
   "cell_type": "code",
   "execution_count": 74,
   "metadata": {},
   "outputs": [],
   "source": [
    "# Réduction de dimension à 50 via PCA\n",
    "pca = PCA(n_components=50, random_state=42)\n",
    "source_latent = pca.fit_transform(source_embeddings)\n",
    "simplified_latent = pca.transform(simplified_embeddings)\n",
    "\n",
    "# Ajouter les vecteurs réduits au DataFrame\n",
    "data['source_latent'] = list(source_latent)\n",
    "data['simplified_latent'] = list(simplified_latent)\n"
   ]
  },
  {
   "cell_type": "markdown",
   "metadata": {},
   "source": [
    "### FEATURE ENGINNERING "
   ]
  },
  {
   "cell_type": "markdown",
   "metadata": {},
   "source": [
    "# Fonction pour calculer la similarité cosinus "
   ]
  },
  {
   "cell_type": "code",
   "execution_count": 75,
   "metadata": {},
   "outputs": [
    {
     "name": "stdout",
     "output_type": "stream",
     "text": [
      "                                       source sentence  \\\n",
      "0    0noncoding rnas lncrnas may play critical role...   \n",
      "1    recently lncrnas have been widely identified a...   \n",
      "2    however there is rare information about them i...   \n",
      "3    during humanitarian crises there is a need for...   \n",
      "4    such need creates the base for misinformation ...   \n",
      "..                                                 ...   \n",
      "325  the hmm predicts the users motion and computes...   \n",
      "326  our approach then selects effective search loc...   \n",
      "327  the selection criterion hereby considers the v...   \n",
      "328  we performed both realworld and extensive simu...   \n",
      "329  in comparison to a greedy maximum coverage app...   \n",
      "\n",
      "                                   simplified sentence  similarity  \n",
      "0    long noncoding rnas or lncrnas may play signif...    0.937647  \n",
      "1    small rna molecules are found in complex cells...    0.808469  \n",
      "2    there is unusual information here that doesnt ...    0.697989  \n",
      "3    when crises happen people need quick and large...    0.574447  \n",
      "4    this reduction helps in combating climate chan...    0.171497  \n",
      "..                                                 ...         ...  \n",
      "325  heres the simplified sentence\\n\\nthe hidden ma...    0.815219  \n",
      "326  our approach chooses the best places to search...    0.887590  \n",
      "327  the selection criterion considers the limitati...    0.915683  \n",
      "328  we tested our approach by conducting experimen...    0.709081  \n",
      "329  heres a simplified sentence that explains comp...    0.683125  \n",
      "\n",
      "[330 rows x 3 columns]\n"
     ]
    }
   ],
   "source": [
    "from sklearn.metrics.pairwise import cosine_similarity\n",
    "from scipy.spatial.distance import euclidean\n",
    "\n",
    "def compare_embeddings(vec1, vec2, metric='cosine'):\n",
    "    if metric == 'cosine':\n",
    "        return cosine_similarity([vec1], [vec2])[0][0]\n",
    "    elif metric == 'euclidean':\n",
    "        return euclidean(vec1, vec2)\n",
    "\n",
    "# Ajouter une colonne de similarité au DataFrame\n",
    "data['similarity'] = data.apply(\n",
    "    lambda row: compare_embeddings(row['source_latent'], row['simplified_latent'], metric='cosine'), axis=1\n",
    ")\n",
    "\n",
    "# Afficher le DataFrame final\n",
    "print(data[['source sentence', 'simplified sentence', 'similarity']])\n",
    "\n",
    "\n"
   ]
  },
  {
   "cell_type": "code",
   "execution_count": 76,
   "metadata": {},
   "outputs": [],
   "source": [
    "# data.drop(columns=['source sentence','simplified sentence','source_embedding','simplified_embedding'], inplace=True)\n",
    "data.drop(columns=['source sentence','simplified sentence','source_embedding','simplified_embedding'], inplace=True)"
   ]
  },
  {
   "cell_type": "code",
   "execution_count": 77,
   "metadata": {},
   "outputs": [
    {
     "data": {
      "text/html": [
       "<div>\n",
       "<style scoped>\n",
       "    .dataframe tbody tr th:only-of-type {\n",
       "        vertical-align: middle;\n",
       "    }\n",
       "\n",
       "    .dataframe tbody tr th {\n",
       "        vertical-align: top;\n",
       "    }\n",
       "\n",
       "    .dataframe thead th {\n",
       "        text-align: right;\n",
       "    }\n",
       "</style>\n",
       "<table border=\"1\" class=\"dataframe\">\n",
       "  <thead>\n",
       "    <tr style=\"text-align: right;\">\n",
       "      <th></th>\n",
       "      <th>Out-of-Scope Generation</th>\n",
       "      <th>source_latent</th>\n",
       "      <th>simplified_latent</th>\n",
       "      <th>similarity</th>\n",
       "    </tr>\n",
       "  </thead>\n",
       "  <tbody>\n",
       "    <tr>\n",
       "      <th>0</th>\n",
       "      <td>False</td>\n",
       "      <td>[-0.1402851, 0.3993774, 0.016698837, 0.2754986...</td>\n",
       "      <td>[-0.13780719, 0.41999602, 0.01167783, 0.178029...</td>\n",
       "      <td>0.937647</td>\n",
       "    </tr>\n",
       "    <tr>\n",
       "      <th>1</th>\n",
       "      <td>False</td>\n",
       "      <td>[-0.11340841, 0.25922093, 0.027499028, 0.28721...</td>\n",
       "      <td>[-0.1848618, 0.28758222, 0.018048752, 0.236620...</td>\n",
       "      <td>0.808469</td>\n",
       "    </tr>\n",
       "    <tr>\n",
       "      <th>2</th>\n",
       "      <td>True</td>\n",
       "      <td>[-0.06470882, 0.09986454, 0.031302515, 0.05054...</td>\n",
       "      <td>[0.10654827, -0.021748746, -0.02932733, 0.1406...</td>\n",
       "      <td>0.697989</td>\n",
       "    </tr>\n",
       "    <tr>\n",
       "      <th>3</th>\n",
       "      <td>True</td>\n",
       "      <td>[0.17458947, -0.074454896, -0.053535562, 0.001...</td>\n",
       "      <td>[0.26496148, -0.17702724, 0.18001825, 0.138153...</td>\n",
       "      <td>0.574447</td>\n",
       "    </tr>\n",
       "    <tr>\n",
       "      <th>4</th>\n",
       "      <td>False</td>\n",
       "      <td>[0.5497599, 0.13537794, -0.20753784, -0.006698...</td>\n",
       "      <td>[0.06093421, 0.017855573, -0.042385153, -0.054...</td>\n",
       "      <td>0.171497</td>\n",
       "    </tr>\n",
       "  </tbody>\n",
       "</table>\n",
       "</div>"
      ],
      "text/plain": [
       "   Out-of-Scope Generation                                      source_latent  \\\n",
       "0                    False  [-0.1402851, 0.3993774, 0.016698837, 0.2754986...   \n",
       "1                    False  [-0.11340841, 0.25922093, 0.027499028, 0.28721...   \n",
       "2                     True  [-0.06470882, 0.09986454, 0.031302515, 0.05054...   \n",
       "3                     True  [0.17458947, -0.074454896, -0.053535562, 0.001...   \n",
       "4                    False  [0.5497599, 0.13537794, -0.20753784, -0.006698...   \n",
       "\n",
       "                                   simplified_latent  similarity  \n",
       "0  [-0.13780719, 0.41999602, 0.01167783, 0.178029...    0.937647  \n",
       "1  [-0.1848618, 0.28758222, 0.018048752, 0.236620...    0.808469  \n",
       "2  [0.10654827, -0.021748746, -0.02932733, 0.1406...    0.697989  \n",
       "3  [0.26496148, -0.17702724, 0.18001825, 0.138153...    0.574447  \n",
       "4  [0.06093421, 0.017855573, -0.042385153, -0.054...    0.171497  "
      ]
     },
     "execution_count": 77,
     "metadata": {},
     "output_type": "execute_result"
    }
   ],
   "source": [
    "data.head()"
   ]
  },
  {
   "cell_type": "markdown",
   "metadata": {},
   "source": [
    "### Importing Packages!!"
   ]
  },
  {
   "cell_type": "code",
   "execution_count": 78,
   "metadata": {},
   "outputs": [],
   "source": [
    "import numpy as np\n",
    "import pandas as pd\n",
    "from imblearn.over_sampling import SMOTE\n",
    "from sklearn.model_selection import train_test_split\n",
    "from sklearn.linear_model import LogisticRegression\n",
    "from sklearn.metrics import classification_report, confusion_matrix\n",
    "from sklearn.metrics import balanced_accuracy_score\n",
    "from imblearn.over_sampling import SMOTE\n",
    "from sklearn.svm import SVC"
   ]
  },
  {
   "cell_type": "markdown",
   "metadata": {},
   "source": [
    "### SPLIT"
   ]
  },
  {
   "cell_type": "code",
   "execution_count": 79,
   "metadata": {},
   "outputs": [],
   "source": [
    "X = data[['source_latent', 'simplified_latent', 'similarity']]\n",
    "y = data['Out-of-Scope Generation'].astype(int)\n",
    "\n",
    "# Combiner les colonnes d'embeddings en un vecteur unique\n",
    "def combine_features(row):\n",
    "    return np.concatenate([row['source_latent'], row['simplified_latent'], [row['similarity']]])\n",
    "\n",
    "# Appliquer la combinaison sur toutes les lignes\n",
    "X_combined = np.array(X.apply(combine_features, axis=1).tolist())\n",
    "\n",
    "# Diviser en ensembles d'entraînement et de test\n",
    "X_train, X_test, y_train, y_test = train_test_split(X_combined, y, test_size=0.2, random_state=42)\n"
   ]
  },
  {
   "cell_type": "markdown",
   "metadata": {},
   "source": [
    "## SMOTE OVERSAMPLING CLASSE MINORITAIRE"
   ]
  },
  {
   "cell_type": "code",
   "execution_count": 80,
   "metadata": {},
   "outputs": [],
   "source": [
    "smote = SMOTE(random_state=42)\n",
    "X_train_resampled, y_train_resampled = smote.fit_resample(X_train, y_train)\n"
   ]
  },
  {
   "cell_type": "markdown",
   "metadata": {},
   "source": [
    "## Logistic Regression"
   ]
  },
  {
   "cell_type": "code",
   "execution_count": 81,
   "metadata": {},
   "outputs": [],
   "source": [
    "logistic_model = LogisticRegression(max_iter=1000, random_state=42)\n",
    "logistic_model.fit(X_train_resampled, y_train_resampled)\n",
    "y_pred = logistic_model.predict(X_test)\n"
   ]
  },
  {
   "cell_type": "code",
   "execution_count": 82,
   "metadata": {},
   "outputs": [
    {
     "name": "stdout",
     "output_type": "stream",
     "text": [
      "Confusion Matrix:\n",
      "[[46 10]\n",
      " [ 3  7]]\n",
      "\n",
      "Classification Report:\n",
      "              precision    recall  f1-score   support\n",
      "\n",
      "       False       0.94      0.82      0.88        56\n",
      "        True       0.41      0.70      0.52        10\n",
      "\n",
      "    accuracy                           0.80        66\n",
      "   macro avg       0.68      0.76      0.70        66\n",
      "weighted avg       0.86      0.80      0.82        66\n",
      "\n"
     ]
    }
   ],
   "source": [
    "print(\"Confusion Matrix:\")\n",
    "print(confusion_matrix(y_test, y_pred))\n",
    "print(\"\\nClassification Report:\")\n",
    "print(classification_report(y_test, y_pred, target_names=[\"False\", \"True\"]))\n"
   ]
  },
  {
   "cell_type": "code",
   "execution_count": 83,
   "metadata": {},
   "outputs": [
    {
     "name": "stdout",
     "output_type": "stream",
     "text": [
      "The balanced accuracy of the model is 0.761\n"
     ]
    }
   ],
   "source": [
    "print(f\"The balanced accuracy of the model is \"\n",
    "      f\"{balanced_accuracy_score(y_test, y_pred):.3f}\")"
   ]
  },
  {
   "cell_type": "markdown",
   "metadata": {},
   "source": [
    "### Modeling with svm"
   ]
  },
  {
   "cell_type": "code",
   "execution_count": 84,
   "metadata": {},
   "outputs": [],
   "source": [
    "svm_model = SVC(kernel='linear', random_state=42)\n",
    "svm_model.fit(X_train_resampled, y_train_resampled)\n",
    "y_pred = svm_model.predict(X_test)\n"
   ]
  },
  {
   "cell_type": "code",
   "execution_count": 85,
   "metadata": {},
   "outputs": [
    {
     "name": "stdout",
     "output_type": "stream",
     "text": [
      "Confusion Matrix:\n",
      "[[46 10]\n",
      " [ 3  7]]\n",
      "\n",
      "Classification Report:\n",
      "              precision    recall  f1-score   support\n",
      "\n",
      "       False       0.94      0.82      0.88        56\n",
      "        True       0.41      0.70      0.52        10\n",
      "\n",
      "    accuracy                           0.80        66\n",
      "   macro avg       0.68      0.76      0.70        66\n",
      "weighted avg       0.86      0.80      0.82        66\n",
      "\n"
     ]
    }
   ],
   "source": [
    "print(\"Confusion Matrix:\")\n",
    "print(confusion_matrix(y_test, y_pred))\n",
    "\n",
    "print(\"\\nClassification Report:\")\n",
    "print(classification_report(y_test, y_pred, target_names=[\"False\", \"True\"]))"
   ]
  },
  {
   "cell_type": "code",
   "execution_count": 86,
   "metadata": {},
   "outputs": [
    {
     "name": "stdout",
     "output_type": "stream",
     "text": [
      "The balanced accuracy of the model is 0.761\n"
     ]
    }
   ],
   "source": [
    "print(f\"The balanced accuracy of the model is \"\n",
    "      f\"{balanced_accuracy_score(y_test, y_pred):.3f}\")"
   ]
  },
  {
   "cell_type": "markdown",
   "metadata": {},
   "source": [
    "### GRID SEARCH FOR BETTER SCORING!"
   ]
  },
  {
   "cell_type": "code",
   "execution_count": 87,
   "metadata": {},
   "outputs": [
    {
     "name": "stdout",
     "output_type": "stream",
     "text": [
      "Best Parameters: {'C': 10, 'gamma': 'scale', 'kernel': 'rbf'}\n",
      "Best F1 Score: 0.5502197802197802\n",
      "Confusion Matrix:\n",
      "[[53  3]\n",
      " [ 5  5]]\n",
      "\n",
      "Classification Report:\n",
      "              precision    recall  f1-score   support\n",
      "\n",
      "       False       0.91      0.95      0.93        56\n",
      "        True       0.62      0.50      0.56        10\n",
      "\n",
      "    accuracy                           0.88        66\n",
      "   macro avg       0.77      0.72      0.74        66\n",
      "weighted avg       0.87      0.88      0.87        66\n",
      "\n"
     ]
    }
   ],
   "source": [
    "from sklearn.model_selection import GridSearchCV\n",
    "from sklearn.svm import SVC\n",
    "\n",
    "# Définir les hyperparamètres à tester\n",
    "param_grid = {\n",
    "    'C': [0.1, 1, 10, 100],\n",
    "    'kernel': ['linear', 'rbf', 'poly'],\n",
    "    'gamma': ['scale', 'auto']\n",
    "}\n",
    "\n",
    "# Initialiser GridSearchCV avec SVM\n",
    "svm = SVC()\n",
    "grid_search = GridSearchCV(svm, param_grid, cv=5, scoring='f1', n_jobs=-1)\n",
    "\n",
    "# Entraîner GridSearchCV sur les données\n",
    "grid_search.fit(X_train, y_train)\n",
    "\n",
    "# Afficher les meilleurs paramètres et résultats\n",
    "print(\"Best Parameters:\", grid_search.best_params_)\n",
    "print(\"Best F1 Score:\", grid_search.best_score_)\n",
    "\n",
    "# Entraîner le modèle final avec les meilleurs paramètres\n",
    "best_svm = grid_search.best_estimator_\n",
    "y_pred = best_svm.predict(X_test)\n",
    "\n",
    "# Évaluation\n",
    "print(\"Confusion Matrix:\")\n",
    "print(confusion_matrix(y_test, y_pred))\n",
    "print(\"\\nClassification Report:\")\n",
    "print(classification_report(y_test, y_pred, target_names=[\"False\", \"True\"]))\n"
   ]
  },
  {
   "cell_type": "code",
   "execution_count": 88,
   "metadata": {},
   "outputs": [
    {
     "name": "stdout",
     "output_type": "stream",
     "text": [
      "The balanced accuracy of the model is 0.723\n"
     ]
    }
   ],
   "source": [
    "print(f\"The balanced accuracy of the model is \"\n",
    "      f\"{balanced_accuracy_score(y_test, y_pred):.3f}\")"
   ]
  },
  {
   "cell_type": "markdown",
   "metadata": {},
   "source": []
  },
  {
   "cell_type": "markdown",
   "metadata": {},
   "source": []
  }
 ],
 "metadata": {
  "kernelspec": {
   "display_name": "Python 3",
   "language": "python",
   "name": "python3"
  },
  "language_info": {
   "codemirror_mode": {
    "name": "ipython",
    "version": 3
   },
   "file_extension": ".py",
   "mimetype": "text/x-python",
   "name": "python",
   "nbconvert_exporter": "python",
   "pygments_lexer": "ipython3",
   "version": "3.11.4"
  }
 },
 "nbformat": 4,
 "nbformat_minor": 2
}
